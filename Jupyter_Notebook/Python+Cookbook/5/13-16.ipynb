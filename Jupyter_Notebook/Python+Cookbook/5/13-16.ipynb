{
 "cells": [
  {
   "cell_type": "markdown",
   "metadata": {},
   "source": [
    "### 你想获取文件系统中某个目录下的所有文件列表。"
   ]
  },
  {
   "cell_type": "code",
   "execution_count": 6,
   "metadata": {},
   "outputs": [
    {
     "name": "stdout",
     "output_type": "stream",
     "text": [
      "['data.bin', 'newsample.bin', 'none', 'sample.bin', 'sample.txt', 'somefil.txt', 'somefile.bin', 'somefile.bz2', 'somefile.data', 'somefile.gz', 'somefile.txt']\n"
     ]
    }
   ],
   "source": [
    "import os\n",
    "names = os.listdir('data')\n",
    "print(names)"
   ]
  },
  {
   "cell_type": "markdown",
   "metadata": {},
   "source": [
    "### 结果会返回目录中所有文件列表，包括所有文件，子目录，符号链接等等。如果你需要通过某种方式过滤数据，可以考虑结合os.path 库中的一些函数来使用列表推导。比如："
   ]
  },
  {
   "cell_type": "code",
   "execution_count": 5,
   "metadata": {},
   "outputs": [
    {
     "name": "stdout",
     "output_type": "stream",
     "text": [
      "['data.bin', 'newsample.bin', 'sample.bin', 'sample.txt', 'somefil.txt', 'somefile.bin', 'somefile.bz2', 'somefile.data', 'somefile.gz', 'somefile.txt']\n"
     ]
    }
   ],
   "source": [
    "import os.path\n",
    "\n",
    "# Get all regular files\n",
    "names = [name for name in os.listdir('data')\n",
    "        if os.path.isfile(os.path.join('data', name))]\n",
    "print(names)"
   ]
  },
  {
   "cell_type": "code",
   "execution_count": 7,
   "metadata": {},
   "outputs": [
    {
     "name": "stdout",
     "output_type": "stream",
     "text": [
      "['none']\n"
     ]
    }
   ],
   "source": [
    "# Get all dirs\n",
    "dirnames = [name for name in os.listdir('data')\n",
    "           if os.path.isdir(os.path.join('data', name))]\n",
    "print(dirnames)"
   ]
  },
  {
   "cell_type": "markdown",
   "metadata": {},
   "source": [
    "### 字符串的startswith() 和endswith() 方法对于过滤一个目录的内容也是很有用的。比如：\n"
   ]
  },
  {
   "cell_type": "code",
   "execution_count": 9,
   "metadata": {},
   "outputs": [
    {
     "name": "stdout",
     "output_type": "stream",
     "text": [
      "['sample.txt', 'somefil.txt', 'somefile.txt']\n"
     ]
    }
   ],
   "source": [
    "txtfiles = [name for name in os.listdir('data')\n",
    "           if name.endswith('.txt')]\n",
    "print(txtfiles)"
   ]
  },
  {
   "cell_type": "markdown",
   "metadata": {},
   "source": [
    "#### 对于文件名的匹配，你可能会考虑使用glob 或fnmatch 模块。比如："
   ]
  },
  {
   "cell_type": "code",
   "execution_count": 13,
   "metadata": {},
   "outputs": [
    {
     "name": "stdout",
     "output_type": "stream",
     "text": [
      "['data\\\\sample.txt', 'data\\\\somefil.txt', 'data\\\\somefile.txt']\n",
      "['sample.txt', 'somefil.txt', 'somefile.txt']\n"
     ]
    }
   ],
   "source": [
    "import glob\n",
    "pyfiles = glob.glob('data/*.txt')\n",
    "print(pyfiles)\n",
    "\n",
    "from fnmatch import fnmatch\n",
    "pyfiles = [name for name in os.listdir('data')\n",
    "          if fnmatch(name, '*.txt')]\n",
    "print(pyfiles)"
   ]
  },
  {
   "cell_type": "markdown",
   "metadata": {},
   "source": [
    "### 获取目录中的列表是很容易的，但是其返回结果只是目录中实体名列表而已。如果你还想获取其他的元信息，比如文件大小，修改时间等等，你或许还需要使用到os.path 模块中的函数或着os.stat() 函数来收集数据。比如："
   ]
  },
  {
   "cell_type": "code",
   "execution_count": 18,
   "metadata": {},
   "outputs": [
    {
     "name": "stdout",
     "output_type": "stream",
     "text": [
      "data\\sample.txt 30 Mon Nov  6 22:57:17 2017\n",
      "data\\somefil.txt 7 Sun Dec  9 03:52:58 2018\n",
      "data\\somefile.txt 7 Sun Dec  9 18:37:05 2018\n",
      "data\\sample.txt 30 Mon Nov  6 22:57:17 2017\n",
      "data\\somefil.txt 7 Sun Dec  9 03:52:58 2018\n",
      "data\\somefile.txt 7 Sun Dec  9 18:37:05 2018\n"
     ]
    }
   ],
   "source": [
    "# Exmaple of getting a directory listing\n",
    "import time\n",
    "#time.ctime(os.path.getmtime('data'))\n",
    "import os\n",
    "import os.path\n",
    "import glob\n",
    "\n",
    "txtfiles = glob.glob('data/*.txt')\n",
    "\n",
    "# Get file sizes and modification dates\n",
    "name_sz_data = [(name, os.path.getsize(name), os.path.getmtime(name))\n",
    "               for name in txtfiles]\n",
    "for name, size, mtime in name_sz_data:\n",
    "    print(name, size, time.ctime(mtime))\n",
    "    \n",
    "# Alternative: Get file metadata\n",
    "file_metadata = [(name, os.stat(name)) for name in txtfiles]\n",
    "for name, meta in file_metadata:\n",
    "    print(name, meta.st_size, time.ctime(meta.st_mtime))"
   ]
  },
  {
   "cell_type": "code",
   "execution_count": null,
   "metadata": {},
   "outputs": [],
   "source": []
  }
 ],
 "metadata": {
  "kernelspec": {
   "display_name": "Python 3",
   "language": "python",
   "name": "python3"
  },
  "language_info": {
   "codemirror_mode": {
    "name": "ipython",
    "version": 3
   },
   "file_extension": ".py",
   "mimetype": "text/x-python",
   "name": "python",
   "nbconvert_exporter": "python",
   "pygments_lexer": "ipython3",
   "version": "3.6.4"
  }
 },
 "nbformat": 4,
 "nbformat_minor": 2
}
